{
 "cells": [
  {
   "cell_type": "code",
   "execution_count": 2,
   "metadata": {},
   "outputs": [],
   "source": [
    "import pandas as pd"
   ]
  },
  {
   "cell_type": "code",
   "execution_count": 3,
   "metadata": {},
   "outputs": [],
   "source": [
    "# using DC dataset as example\n",
    "deaurl=\"https://www.washingtonpost.com/wp-stat/dea-pain-pill-database/summary/arcos-dc-district-of-columbia-11001-itemized.tsv\"\n",
    "dea = pd.read_csv(deaurl,delimiter='\\t')"
   ]
  },
  {
   "cell_type": "code",
   "execution_count": 4,
   "metadata": {},
   "outputs": [
    {
     "data": {
      "text/html": [
       "<div>\n",
       "<style scoped>\n",
       "    .dataframe tbody tr th:only-of-type {\n",
       "        vertical-align: middle;\n",
       "    }\n",
       "\n",
       "    .dataframe tbody tr th {\n",
       "        vertical-align: top;\n",
       "    }\n",
       "\n",
       "    .dataframe thead th {\n",
       "        text-align: right;\n",
       "    }\n",
       "</style>\n",
       "<table border=\"1\" class=\"dataframe\">\n",
       "  <thead>\n",
       "    <tr style=\"text-align: right;\">\n",
       "      <th></th>\n",
       "      <th>REPORTER_DEA_NO</th>\n",
       "      <th>REPORTER_BUS_ACT</th>\n",
       "      <th>REPORTER_NAME</th>\n",
       "      <th>REPORTER_ADDL_CO_INFO</th>\n",
       "      <th>REPORTER_ADDRESS1</th>\n",
       "      <th>REPORTER_ADDRESS2</th>\n",
       "      <th>REPORTER_CITY</th>\n",
       "      <th>REPORTER_STATE</th>\n",
       "      <th>REPORTER_ZIP</th>\n",
       "      <th>REPORTER_COUNTY</th>\n",
       "      <th>...</th>\n",
       "      <th>DOSAGE_UNIT</th>\n",
       "      <th>TRANSACTION_ID</th>\n",
       "      <th>Product_Name</th>\n",
       "      <th>Ingredient_Name</th>\n",
       "      <th>Measure</th>\n",
       "      <th>MME_Conversion_Factor</th>\n",
       "      <th>Combined_Labeler_Name</th>\n",
       "      <th>Revised_Company_Name</th>\n",
       "      <th>Reporter_family</th>\n",
       "      <th>dos_str</th>\n",
       "    </tr>\n",
       "  </thead>\n",
       "  <tbody>\n",
       "    <tr>\n",
       "      <th>0</th>\n",
       "      <td>PB0034861</td>\n",
       "      <td>DISTRIBUTOR</td>\n",
       "      <td>BELLCO DRUG CORP</td>\n",
       "      <td>NaN</td>\n",
       "      <td>5500 NEW HORIZONS BLVD</td>\n",
       "      <td>NaN</td>\n",
       "      <td>NORTH AMITYVILLE</td>\n",
       "      <td>NY</td>\n",
       "      <td>11701</td>\n",
       "      <td>SUFFOLK</td>\n",
       "      <td>...</td>\n",
       "      <td>1200.0</td>\n",
       "      <td>1761</td>\n",
       "      <td>ENDOCET - 7.5MG OXYCODONE.HCL/325MG</td>\n",
       "      <td>OXYCODONE HYDROCHLORIDE</td>\n",
       "      <td>TAB</td>\n",
       "      <td>1.5</td>\n",
       "      <td>Par Pharmaceutical</td>\n",
       "      <td>Endo Pharmaceuticals, Inc.</td>\n",
       "      <td>Bellco Drug Corp</td>\n",
       "      <td>7.5</td>\n",
       "    </tr>\n",
       "    <tr>\n",
       "      <th>1</th>\n",
       "      <td>PB0034861</td>\n",
       "      <td>DISTRIBUTOR</td>\n",
       "      <td>BELLCO DRUG CORP</td>\n",
       "      <td>NaN</td>\n",
       "      <td>5500 NEW HORIZONS BLVD</td>\n",
       "      <td>NaN</td>\n",
       "      <td>NORTH AMITYVILLE</td>\n",
       "      <td>NY</td>\n",
       "      <td>11701</td>\n",
       "      <td>SUFFOLK</td>\n",
       "      <td>...</td>\n",
       "      <td>1200.0</td>\n",
       "      <td>6368</td>\n",
       "      <td>ENDOCET - 7.5MG OXYCODONE.HCL/325MG</td>\n",
       "      <td>OXYCODONE HYDROCHLORIDE</td>\n",
       "      <td>TAB</td>\n",
       "      <td>1.5</td>\n",
       "      <td>Par Pharmaceutical</td>\n",
       "      <td>Endo Pharmaceuticals, Inc.</td>\n",
       "      <td>Bellco Drug Corp</td>\n",
       "      <td>7.5</td>\n",
       "    </tr>\n",
       "    <tr>\n",
       "      <th>2</th>\n",
       "      <td>PB0034861</td>\n",
       "      <td>DISTRIBUTOR</td>\n",
       "      <td>BELLCO DRUG CORP</td>\n",
       "      <td>NaN</td>\n",
       "      <td>5500 NEW HORIZONS BLVD</td>\n",
       "      <td>NaN</td>\n",
       "      <td>NORTH AMITYVILLE</td>\n",
       "      <td>NY</td>\n",
       "      <td>11701</td>\n",
       "      <td>SUFFOLK</td>\n",
       "      <td>...</td>\n",
       "      <td>300.0</td>\n",
       "      <td>7756</td>\n",
       "      <td>HYDROCODONE BIT./IBUPROFEN;7.5MG &amp; 2</td>\n",
       "      <td>HYDROCODONE BITARTRATE HEMIPENTAHYDRATE</td>\n",
       "      <td>TAB</td>\n",
       "      <td>1.0</td>\n",
       "      <td>Teva Pharmaceuticals USA, Inc.</td>\n",
       "      <td>Teva</td>\n",
       "      <td>Bellco Drug Corp</td>\n",
       "      <td>7.5</td>\n",
       "    </tr>\n",
       "    <tr>\n",
       "      <th>3</th>\n",
       "      <td>PB0034861</td>\n",
       "      <td>DISTRIBUTOR</td>\n",
       "      <td>BELLCO DRUG CORP</td>\n",
       "      <td>NaN</td>\n",
       "      <td>5500 NEW HORIZONS BLVD</td>\n",
       "      <td>NaN</td>\n",
       "      <td>NORTH AMITYVILLE</td>\n",
       "      <td>NY</td>\n",
       "      <td>11701</td>\n",
       "      <td>SUFFOLK</td>\n",
       "      <td>...</td>\n",
       "      <td>500.0</td>\n",
       "      <td>6947</td>\n",
       "      <td>HYDROCODO.BIT 10MG&amp;AC USP TAB</td>\n",
       "      <td>HYDROCODONE BITARTRATE HEMIPENTAHYDRATE</td>\n",
       "      <td>TAB</td>\n",
       "      <td>1.0</td>\n",
       "      <td>SpecGx LLC</td>\n",
       "      <td>Mallinckrodt</td>\n",
       "      <td>Bellco Drug Corp</td>\n",
       "      <td>10.0</td>\n",
       "    </tr>\n",
       "    <tr>\n",
       "      <th>4</th>\n",
       "      <td>PB0034861</td>\n",
       "      <td>DISTRIBUTOR</td>\n",
       "      <td>BELLCO DRUG CORP</td>\n",
       "      <td>NaN</td>\n",
       "      <td>5500 NEW HORIZONS BLVD</td>\n",
       "      <td>NaN</td>\n",
       "      <td>NORTH AMITYVILLE</td>\n",
       "      <td>NY</td>\n",
       "      <td>11701</td>\n",
       "      <td>SUFFOLK</td>\n",
       "      <td>...</td>\n",
       "      <td>800.0</td>\n",
       "      <td>3603</td>\n",
       "      <td>OXYCODONE HYDROCHLORIDE CR 20MG TABL</td>\n",
       "      <td>OXYCODONE HYDROCHLORIDE</td>\n",
       "      <td>TAB</td>\n",
       "      <td>1.5</td>\n",
       "      <td>Actavis Pharma, Inc.</td>\n",
       "      <td>Purdue Pharma LP</td>\n",
       "      <td>Bellco Drug Corp</td>\n",
       "      <td>20.0</td>\n",
       "    </tr>\n",
       "  </tbody>\n",
       "</table>\n",
       "<p>5 rows × 42 columns</p>\n",
       "</div>"
      ],
      "text/plain": [
       "  REPORTER_DEA_NO REPORTER_BUS_ACT     REPORTER_NAME REPORTER_ADDL_CO_INFO  \\\n",
       "0       PB0034861      DISTRIBUTOR  BELLCO DRUG CORP                   NaN   \n",
       "1       PB0034861      DISTRIBUTOR  BELLCO DRUG CORP                   NaN   \n",
       "2       PB0034861      DISTRIBUTOR  BELLCO DRUG CORP                   NaN   \n",
       "3       PB0034861      DISTRIBUTOR  BELLCO DRUG CORP                   NaN   \n",
       "4       PB0034861      DISTRIBUTOR  BELLCO DRUG CORP                   NaN   \n",
       "\n",
       "        REPORTER_ADDRESS1 REPORTER_ADDRESS2     REPORTER_CITY REPORTER_STATE  \\\n",
       "0  5500 NEW HORIZONS BLVD               NaN  NORTH AMITYVILLE             NY   \n",
       "1  5500 NEW HORIZONS BLVD               NaN  NORTH AMITYVILLE             NY   \n",
       "2  5500 NEW HORIZONS BLVD               NaN  NORTH AMITYVILLE             NY   \n",
       "3  5500 NEW HORIZONS BLVD               NaN  NORTH AMITYVILLE             NY   \n",
       "4  5500 NEW HORIZONS BLVD               NaN  NORTH AMITYVILLE             NY   \n",
       "\n",
       "   REPORTER_ZIP REPORTER_COUNTY   ...   DOSAGE_UNIT TRANSACTION_ID  \\\n",
       "0         11701         SUFFOLK   ...        1200.0           1761   \n",
       "1         11701         SUFFOLK   ...        1200.0           6368   \n",
       "2         11701         SUFFOLK   ...         300.0           7756   \n",
       "3         11701         SUFFOLK   ...         500.0           6947   \n",
       "4         11701         SUFFOLK   ...         800.0           3603   \n",
       "\n",
       "                           Product_Name  \\\n",
       "0   ENDOCET - 7.5MG OXYCODONE.HCL/325MG   \n",
       "1   ENDOCET - 7.5MG OXYCODONE.HCL/325MG   \n",
       "2  HYDROCODONE BIT./IBUPROFEN;7.5MG & 2   \n",
       "3         HYDROCODO.BIT 10MG&AC USP TAB   \n",
       "4  OXYCODONE HYDROCHLORIDE CR 20MG TABL   \n",
       "\n",
       "                           Ingredient_Name Measure MME_Conversion_Factor  \\\n",
       "0                  OXYCODONE HYDROCHLORIDE     TAB                   1.5   \n",
       "1                  OXYCODONE HYDROCHLORIDE     TAB                   1.5   \n",
       "2  HYDROCODONE BITARTRATE HEMIPENTAHYDRATE     TAB                   1.0   \n",
       "3  HYDROCODONE BITARTRATE HEMIPENTAHYDRATE     TAB                   1.0   \n",
       "4                  OXYCODONE HYDROCHLORIDE     TAB                   1.5   \n",
       "\n",
       "            Combined_Labeler_Name        Revised_Company_Name  \\\n",
       "0              Par Pharmaceutical  Endo Pharmaceuticals, Inc.   \n",
       "1              Par Pharmaceutical  Endo Pharmaceuticals, Inc.   \n",
       "2  Teva Pharmaceuticals USA, Inc.                        Teva   \n",
       "3                      SpecGx LLC                Mallinckrodt   \n",
       "4            Actavis Pharma, Inc.            Purdue Pharma LP   \n",
       "\n",
       "    Reporter_family dos_str  \n",
       "0  Bellco Drug Corp     7.5  \n",
       "1  Bellco Drug Corp     7.5  \n",
       "2  Bellco Drug Corp     7.5  \n",
       "3  Bellco Drug Corp    10.0  \n",
       "4  Bellco Drug Corp    20.0  \n",
       "\n",
       "[5 rows x 42 columns]"
      ]
     },
     "execution_count": 4,
     "metadata": {},
     "output_type": "execute_result"
    }
   ],
   "source": [
    "dea.head(5)"
   ]
  },
  {
   "cell_type": "code",
   "execution_count": 5,
   "metadata": {},
   "outputs": [
    {
     "data": {
      "text/plain": [
       "(123238, 42)"
      ]
     },
     "execution_count": 5,
     "metadata": {},
     "output_type": "execute_result"
    }
   ],
   "source": [
    "dea.shape"
   ]
  },
  {
   "cell_type": "code",
   "execution_count": 10,
   "metadata": {},
   "outputs": [
    {
     "data": {
      "text/plain": [
       "Index(['REPORTER_DEA_NO', 'REPORTER_BUS_ACT', 'REPORTER_NAME',\n",
       "       'REPORTER_ADDL_CO_INFO', 'REPORTER_ADDRESS1', 'REPORTER_ADDRESS2',\n",
       "       'REPORTER_CITY', 'REPORTER_STATE', 'REPORTER_ZIP', 'REPORTER_COUNTY',\n",
       "       'BUYER_DEA_NO', 'BUYER_BUS_ACT', 'BUYER_NAME', 'BUYER_ADDL_CO_INFO',\n",
       "       'BUYER_ADDRESS1', 'BUYER_ADDRESS2', 'BUYER_CITY', 'BUYER_STATE',\n",
       "       'BUYER_ZIP', 'BUYER_COUNTY', 'TRANSACTION_CODE', 'DRUG_CODE', 'NDC_NO',\n",
       "       'DRUG_NAME', 'QUANTITY', 'UNIT', 'ACTION_INDICATOR', 'ORDER_FORM_NO',\n",
       "       'CORRECTION_NO', 'STRENGTH', 'TRANSACTION_DATE', 'CALC_BASE_WT_IN_GM',\n",
       "       'DOSAGE_UNIT', 'TRANSACTION_ID', 'Product_Name', 'Ingredient_Name',\n",
       "       'Measure', 'MME_Conversion_Factor', 'Combined_Labeler_Name',\n",
       "       'Revised_Company_Name', 'Reporter_family', 'dos_str'],\n",
       "      dtype='object')"
      ]
     },
     "execution_count": 10,
     "metadata": {},
     "output_type": "execute_result"
    }
   ],
   "source": [
    "dea.columns"
   ]
  },
  {
   "cell_type": "code",
   "execution_count": 18,
   "metadata": {},
   "outputs": [
    {
     "data": {
      "text/plain": [
       "REPORTER_DEA_NO           object\n",
       "REPORTER_BUS_ACT          object\n",
       "REPORTER_NAME             object\n",
       "REPORTER_ADDL_CO_INFO     object\n",
       "REPORTER_ADDRESS1         object\n",
       "REPORTER_ADDRESS2         object\n",
       "REPORTER_CITY             object\n",
       "REPORTER_STATE            object\n",
       "REPORTER_ZIP               int64\n",
       "REPORTER_COUNTY           object\n",
       "BUYER_DEA_NO              object\n",
       "BUYER_BUS_ACT             object\n",
       "BUYER_NAME                object\n",
       "BUYER_ADDL_CO_INFO        object\n",
       "BUYER_ADDRESS1            object\n",
       "BUYER_ADDRESS2            object\n",
       "BUYER_CITY                object\n",
       "BUYER_STATE               object\n",
       "BUYER_ZIP                  int64\n",
       "BUYER_COUNTY              object\n",
       "TRANSACTION_CODE          object\n",
       "DRUG_CODE                  int64\n",
       "NDC_NO                     int64\n",
       "DRUG_NAME                 object\n",
       "QUANTITY                 float64\n",
       "UNIT                     float64\n",
       "ACTION_INDICATOR          object\n",
       "ORDER_FORM_NO             object\n",
       "CORRECTION_NO            float64\n",
       "STRENGTH                 float64\n",
       "TRANSACTION_DATE           int64\n",
       "CALC_BASE_WT_IN_GM       float64\n",
       "DOSAGE_UNIT              float64\n",
       "TRANSACTION_ID             int64\n",
       "Product_Name              object\n",
       "Ingredient_Name           object\n",
       "Measure                   object\n",
       "MME_Conversion_Factor    float64\n",
       "Combined_Labeler_Name     object\n",
       "Revised_Company_Name      object\n",
       "Reporter_family           object\n",
       "dos_str                  float64\n",
       "dtype: object"
      ]
     },
     "execution_count": 18,
     "metadata": {},
     "output_type": "execute_result"
    }
   ],
   "source": [
    "dea.dtypes"
   ]
  },
  {
   "cell_type": "code",
   "execution_count": 6,
   "metadata": {},
   "outputs": [
    {
     "data": {
      "text/plain": [
       "OXYCODONE HYDROCHLORIDE                    68650\n",
       "HYDROCODONE BITARTRATE HEMIPENTAHYDRATE    54588\n",
       "Name: Ingredient_Name, dtype: int64"
      ]
     },
     "execution_count": 6,
     "metadata": {},
     "output_type": "execute_result"
    }
   ],
   "source": [
    "dea.Ingredient_Name.value_counts()"
   ]
  },
  {
   "cell_type": "markdown",
   "metadata": {},
   "source": [
    "#### ↑ We can see that the dataset only contains 2 types of active ingredient for drugs: Oxycodone and Hydrocodone. "
   ]
  },
  {
   "cell_type": "code",
   "execution_count": 8,
   "metadata": {},
   "outputs": [
    {
     "data": {
      "text/plain": [
       "DISTRIBUTOR     123217\n",
       "MANUFACTURER        21\n",
       "Name: REPORTER_BUS_ACT, dtype: int64"
      ]
     },
     "execution_count": 8,
     "metadata": {},
     "output_type": "execute_result"
    }
   ],
   "source": [
    "dea.REPORTER_BUS_ACT.value_counts()"
   ]
  },
  {
   "cell_type": "code",
   "execution_count": 12,
   "metadata": {},
   "outputs": [
    {
     "data": {
      "text/plain": [
       "9143    68650\n",
       "9193    54588\n",
       "Name: DRUG_CODE, dtype: int64"
      ]
     },
     "execution_count": 12,
     "metadata": {},
     "output_type": "execute_result"
    }
   ],
   "source": [
    "dea.DRUG_CODE.value_counts()"
   ]
  },
  {
   "cell_type": "code",
   "execution_count": 16,
   "metadata": {},
   "outputs": [
    {
     "data": {
      "text/plain": [
       "I    92\n",
       "A     3\n",
       "Name: ACTION_INDICATOR, dtype: int64"
      ]
     },
     "execution_count": 16,
     "metadata": {},
     "output_type": "execute_result"
    }
   ],
   "source": [
    "dea.ACTION_INDICATOR.value_counts()"
   ]
  },
  {
   "cell_type": "markdown",
   "metadata": {},
   "source": [
    "### Check missing values"
   ]
  },
  {
   "cell_type": "code",
   "execution_count": 17,
   "metadata": {},
   "outputs": [
    {
     "name": "stdout",
     "output_type": "stream",
     "text": [
      "REPORTER_DEA_NO               0\n",
      "REPORTER_BUS_ACT              0\n",
      "REPORTER_NAME                 0\n",
      "REPORTER_ADDL_CO_INFO    122919\n",
      "REPORTER_ADDRESS1             0\n",
      "REPORTER_ADDRESS2         95708\n",
      "REPORTER_CITY                 0\n",
      "REPORTER_STATE                0\n",
      "REPORTER_ZIP                  0\n",
      "REPORTER_COUNTY               0\n",
      "BUYER_DEA_NO                  0\n",
      "BUYER_BUS_ACT                 0\n",
      "BUYER_NAME                    0\n",
      "BUYER_ADDL_CO_INFO        56559\n",
      "BUYER_ADDRESS1                0\n",
      "BUYER_ADDRESS2            89221\n",
      "BUYER_CITY                    0\n",
      "BUYER_STATE                   0\n",
      "BUYER_ZIP                     0\n",
      "BUYER_COUNTY                  0\n",
      "TRANSACTION_CODE              0\n",
      "DRUG_CODE                     0\n",
      "NDC_NO                        0\n",
      "DRUG_NAME                     0\n",
      "QUANTITY                      0\n",
      "UNIT                     123238\n",
      "ACTION_INDICATOR         123143\n",
      "ORDER_FORM_NO             54588\n",
      "CORRECTION_NO            123214\n",
      "STRENGTH                  79953\n",
      "TRANSACTION_DATE              0\n",
      "CALC_BASE_WT_IN_GM            0\n",
      "DOSAGE_UNIT                   0\n",
      "TRANSACTION_ID                0\n",
      "Product_Name                  0\n",
      "Ingredient_Name               0\n",
      "Measure                       0\n",
      "MME_Conversion_Factor         0\n",
      "Combined_Labeler_Name        20\n",
      "Revised_Company_Name         20\n",
      "Reporter_family               0\n",
      "dos_str                     237\n",
      "dtype: int64\n"
     ]
    }
   ],
   "source": [
    "print(dea.isnull().sum())"
   ]
  },
  {
   "cell_type": "markdown",
   "metadata": {},
   "source": [
    "We do not need too detailed geographical data, so we can get rid of specific address information. "
   ]
  },
  {
   "cell_type": "code",
   "execution_count": 21,
   "metadata": {},
   "outputs": [],
   "source": [
    "dea=dea.drop(['REPORTER_ADDRESS1','REPORTER_ADDRESS2','REPORTER_CITY','BUYER_ADDRESS1','BUYER_ADDRESS2','BUYER_CITY'], axis=1)"
   ]
  },
  {
   "cell_type": "code",
   "execution_count": 22,
   "metadata": {},
   "outputs": [
    {
     "data": {
      "text/plain": [
       "(123238, 36)"
      ]
     },
     "execution_count": 22,
     "metadata": {},
     "output_type": "execute_result"
    }
   ],
   "source": [
    "dea.shape"
   ]
  },
  {
   "cell_type": "code",
   "execution_count": 23,
   "metadata": {},
   "outputs": [
    {
     "data": {
      "text/plain": [
       "EXPERT-MED/LETCO MEDICAL                        123\n",
       "DC DEPARTMENT OF HEALTH                          87\n",
       "DBA: RIVER CITY PHARMA                           52\n",
       "D/B/A PARMED PHARMACEUTICALS                     24\n",
       "DBA GIV                                          14\n",
       "DBA/MWI ANIMAL HEALTH                            13\n",
       "DBA MAJOR PHARMACEUTICALS/RUGBY LABORATORIES      3\n",
       "PHARMACY                                          2\n",
       "DBA CURASCRIPT SD SPECIALTY                       1\n",
       "Name: REPORTER_ADDL_CO_INFO, dtype: int64"
      ]
     },
     "execution_count": 23,
     "metadata": {},
     "output_type": "execute_result"
    }
   ],
   "source": [
    "dea.REPORTER_ADDL_CO_INFO.value_counts()"
   ]
  },
  {
   "cell_type": "markdown",
   "metadata": {},
   "source": [
    "Since we have not been taking a closer look for this dataset, we will keep these columns for now and remove them if needed."
   ]
  },
  {
   "cell_type": "markdown",
   "metadata": {},
   "source": [
    "This dataset is pre-cleaned by Washington Post, so it is already good to use. We can do descriptive analysis into distributors and manufacturers for opioids and get more insights into the bubsiness side and situation."
   ]
  }
 ],
 "metadata": {
  "kernelspec": {
   "display_name": "Python 3",
   "language": "python",
   "name": "python3"
  },
  "language_info": {
   "codemirror_mode": {
    "name": "ipython",
    "version": 3
   },
   "file_extension": ".py",
   "mimetype": "text/x-python",
   "name": "python",
   "nbconvert_exporter": "python",
   "pygments_lexer": "ipython3",
   "version": "3.6.5"
  }
 },
 "nbformat": 4,
 "nbformat_minor": 2
}
